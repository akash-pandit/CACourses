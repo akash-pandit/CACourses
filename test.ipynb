{
 "cells": [
  {
   "cell_type": "code",
   "execution_count": 1,
   "metadata": {},
   "outputs": [],
   "source": [
    "\"\"\" Imports \"\"\"\n",
    "import json\n",
    "import pandas as pd\n",
    "import polars as pl"
   ]
  },
  {
   "cell_type": "markdown",
   "metadata": {},
   "source": [
    "# Defining a Database Schema\n",
    "\n",
    "## What data do we need\n",
    "\n",
    "Starting from the top, what information should we display to users?\n",
    "\n",
    "example return field in csv format (use tsv since a few course/dept names have commas)\n",
    "\n",
    "Example: user selects inst=UCSC, course=MATH19A\n",
    "`San Diego Miramar College, MATH 150, Calculus with Analytic Geometry I, 4 units`\n",
    "\n",
    "Example: user selects inst=UCSD, course=CHEM6B\n",
    "\n",
    "`San Diego Miramar College, CHEM 200, General Chemistry I - Lecture, 3 units`\n",
    "\n",
    "`and`\n",
    "\n",
    "`San Diego Miramar College, CHEM 201, General Chemistry II - Lecture, 3 units`\n",
    "\n",
    "\n",
    "Required data:\n",
    "- sending institution (e.g. San Diego Miramar College)\n",
    "- course prefix (e.g. CHEM)\n",
    "- course number (e.g. 201)\n",
    "- course name (e.g. General Chemistry II - Lecture)\n",
    "- unit count (e.g 3 units)\n",
    "- course ID (some string of numbers, makes mappings easy to deal with)\n",
    "\n",
    "\n",
    "## The schema\n",
    "\n",
    "Table 1: course glossary\n",
    "\n",
    "fields:\n",
    "- id (int, primary key)  // course id\n",
    "- inst (string)  // community college or univ\n",
    "- prefix (string)  // course prefix (e.g. CHEM)\n",
    "- course number (int) \n",
    "- course name (string)\n",
    "- min units (int)  // if min units and max units are the same, display 1\n",
    "- max units (int)\n",
    "\n",
    "Table 2: articulations\n",
    "fields:\n",
    "- id: (int, primary key)\n",
    "- inst (uni) (string)\n",
    "- agreements (json string)\n",
    "\n",
    "## The JSON string\n",
    "\n",
    "tbd, working on that rn\n",
    "\n",
    "## The query flow\n",
    "\n",
    "- user enters site\n",
    "- user picks university -> get list of all courses at university for dropdown\n",
    "    - sends request to backend\n",
    "    - backend uses user input to send query to db\n",
    "        -  `FROM glossary SELECT * WHERE inst IS {whatever the user picked}`\n",
    "    - backend converts results into json w/ id: {prefix, num, name, min units, max units}  // use for formatting dropdown\n",
    "    - backend returns json\n",
    "- user picks course from list -> get list of all articulated courses from id\n",
    "    - sends request to backend\n",
    "    - backend uses user input to send query to db\n",
    "        - `FROM articulations SELECT agreements WHERE id IS {id of course user picked}`\n",
    "        - returns 1 json string with all articulations\n",
    "    - backend aggregates all json string'd course IDs into list, queries course data\n",
    "        - `FROM glossary SELECT * WHERE id IS {ids in list}`\n",
    "    - backend converts results into json w/ id: {inst, prefix, num, name, min units, max units}  // actual displayed data\n",
    "    - backend returns both jsons (articulation string w/ IDs and the cc glossary)\n",
    "- both jsons formatted into cells on frontend\n",
    "- user gets results"
   ]
  },
  {
   "cell_type": "code",
   "execution_count": 2,
   "metadata": {},
   "outputs": [],
   "source": [
    "\"\"\" Define functions for generating an in-memory glossary of every course in an AllPrefixes agreement page \"\"\"\n",
    "\n",
    "def get_query(cc_id: int, uni_id: int) -> dict:\n",
    "    with open(f\"./data/{uni_id}/{cc_id}to{uni_id}.json\", \"r\") as fp:\n",
    "        out = json.load(fp)\n",
    "    return out\n",
    "    \n",
    "\n",
    "def update_courses(courselist: list[dict], glossary: dict, inst: int) -> None:\n",
    "    for course in courselist:\n",
    "        if not all((course[\"prefix\"],\n",
    "                    course[\"courseNumber\"],\n",
    "                    course[\"courseTitle\"],\n",
    "                    course[\"minUnits\"],\n",
    "                    course[\"maxUnits\"])):\n",
    "            continue\n",
    "            \n",
    "        course_id: str = f\"{inst}{course[\"prefix\"]}{course[\"courseNumber\"]}\"\n",
    "        \n",
    "        if course_id not in glossary:            \n",
    "            glossary[course_id] = {\n",
    "                \"course_id\": course_id,\n",
    "                \"inst_id\": inst,\n",
    "                \"course_code\": f\"{course[\"prefix\"]} {course[\"courseNumber\"]}\",\n",
    "                \"course_name\": course[\"courseTitle\"],\n",
    "                \"min_units\": int(course[\"minUnits\"]),\n",
    "                \"max_units\": int(course[\"maxUnits\"])\n",
    "            }\n",
    "\n",
    "def create_course_glossary(cc: int, uni: int) -> pl.DataFrame:\n",
    "    # create output glossary\n",
    "    course_glossary = dict()\n",
    "    \n",
    "    with open(f\"./data/{uni}/{cc}to{uni}.json\", \"r\") as fp:\n",
    "        articulations = json.load(fp)\n",
    "    \n",
    "    # populate query\n",
    "    for dept in articulations:\n",
    "        articulationList = dept[\"articulations\"] if \"articulations\" in dept else [dept[\"articulation\"]]\n",
    "        \n",
    "        for articulation in articulationList:\n",
    "            \n",
    "            # handle university courses\n",
    "            uni_courses: list[dict] = [articulation[\"course\"]] if \"course\" in articulation else articulation[\"series\"][\"courses\"]\n",
    "            update_courses(courselist=uni_courses, glossary=course_glossary, inst=uni)\n",
    "                \n",
    "            # handle cc courses\n",
    "            agreements: dict | None = articulation[\"sendingArticulation\"]\n",
    "            if isinstance(agreements, dict):\n",
    "                for agreement in agreements[\"items\"]:\n",
    "                    update_courses(courselist=agreement[\"items\"], glossary=course_glossary, inst=cc)\n",
    "        \n",
    "    return pl.DataFrame(pd.DataFrame(course_glossary.values(), index=course_glossary.keys()))\n",
    "    # except TypeError as err:\n",
    "    #     print(f\"TYPEERROR (cc={cc}, uni={uni}):\", err)"
   ]
  },
  {
   "cell_type": "code",
   "execution_count": null,
   "metadata": {},
   "outputs": [
    {
     "data": {
      "text/html": [
       "col(\"sendingArticulation\")"
      ],
      "text/plain": [
       "<Expr ['col(\"sendingArticulation\")'] at 0x7F3EFECF1760>"
      ]
     },
     "execution_count": 76,
     "metadata": {},
     "output_type": "execute_result"
    }
   ],
   "source": []
  },
  {
   "cell_type": "code",
   "execution_count": 110,
   "metadata": {},
   "outputs": [
    {
     "data": {
      "text/html": [
       "<div><style>\n",
       ".dataframe > thead > tr,\n",
       ".dataframe > tbody > tr {\n",
       "  text-align: right;\n",
       "  white-space: pre-wrap;\n",
       "}\n",
       "</style>\n",
       "<small>shape: (12, 3)</small><table border=\"1\" class=\"dataframe\"><thead><tr><th>course_id</th><th>sendingArticulation</th><th>items</th></tr><tr><td>i64</td><td>struct[6]</td><td>list[struct[2]]</td></tr></thead><tbody><tr><td>357468</td><td>{null,[],[{&quot;And&quot;,[{[],[],[],203808,&quot;Biology of Human Nutrition&quot;,&quot;135&quot;,&quot;BIOL&quot;,4864,&quot;Biology&quot;,1706,&quot;Biology&quot;,&quot;F1995&quot;,&quot;&quot;,3.0,3.0,[],null,0,&quot;Course&quot;}],[],0,&quot;CourseGroup&quot;}, {&quot;And&quot;,[{[],[],[],208250,&quot;Nutrition&quot;,&quot;150&quot;,&quot;NUTR&quot;,7953,&quot;Nutrition&quot;,9779,&quot;Nutrition&quot;,&quot;F1995&quot;,&quot;F2025&quot;,3.0,3.0,[],null,0,&quot;Course&quot;}],[],1,&quot;CourseGroup&quot;}],[{&quot;b9aefc50-70a6-4814-acaf-08dca807cdc2&quot;,&quot;5aa4625a-ac22-47b9-cf6e-08dca807cdc1&quot;,&quot;Or&quot;,0,1}],&quot;SendingArticulation&quot;,[]}</td><td>[{&quot;And&quot;,[203808]}, {&quot;And&quot;,[208250]}]</td></tr><tr><td>259948</td><td>{null,[],[{&quot;And&quot;,[{[],[],[],339988,&quot;Fundamentals of Chemistry&quot;,&quot;100&quot;,&quot;CHEM&quot;,3785,&quot;Chemistry&quot;,2301,&quot;Chemistry&quot;,&quot;F1995&quot;,&quot;&quot;,3.0,3.0,[],null,0,&quot;Course&quot;}],[],0,&quot;CourseGroup&quot;}, {&quot;And&quot;,[{[],[],[],267304,&quot;Chemistry in Society&quot;,&quot;111&quot;,&quot;CHEM&quot;,3785,&quot;Chemistry&quot;,2301,&quot;Chemistry&quot;,&quot;F2013&quot;,&quot;&quot;,3.0,3.0,[],null,0,&quot;Course&quot;}],[],1,&quot;CourseGroup&quot;}],[{&quot;7159b010-8735-4948-44c7-08dca807cdfc&quot;,&quot;89e81001-74d2-4fe0-f6f7-08dca807cdae&quot;,&quot;Or&quot;,0,1}],&quot;SendingArticulation&quot;,[]}</td><td>[{&quot;And&quot;,[339988]}, {&quot;And&quot;,[267304]}]</td></tr><tr><td>223760</td><td>{null,[],[{&quot;And&quot;,[{[],[],[],338911,&quot;Elementary Statistics&quot;,&quot;119&quot;,&quot;MATH&quot;,9952,&quot;Mathematics&quot;,8982,&quot;Mathematics&quot;,&quot;F1995&quot;,&quot;&quot;,3.0,3.0,[],null,0,&quot;Course&quot;}],[],0,&quot;CourseGroup&quot;}, {&quot;And&quot;,[{[],[],[],345437,&quot;Behavioral Science Statistics&quot;,&quot;258&quot;,&quot;PSYC&quot;,4633,&quot;Psychology&quot;,11234,&quot;Psychology&quot;,&quot;F2004&quot;,&quot;&quot;,3.0,3.0,[],null,0,&quot;Course&quot;}],[],1,&quot;CourseGroup&quot;}],[{&quot;180e448f-a7c8-417a-acad-08dca807cdc2&quot;,&quot;ce35ebae-7d90-4199-cf5b-08dca807cdc1&quot;,&quot;Or&quot;,0,1}],&quot;SendingArticulation&quot;,[]}</td><td>[{&quot;And&quot;,[338911]}, {&quot;And&quot;,[345437]}]</td></tr><tr><td>289406</td><td>{null,[],[{&quot;And&quot;,[{[],[],[],337201,&quot;African American History to Reconstruction&quot;,&quot;140A&quot;,&quot;BLAS&quot;,1590,&quot;Black Studies&quot;,1813,&quot;Black Studies&quot;,&quot;F2024&quot;,&quot;&quot;,3.0,3.0,[],null,0,&quot;Course&quot;}],[],0,&quot;CourseGroup&quot;}, {&quot;And&quot;,[{[],[],[],156119,&quot;African American History since Reconstruction to the Present&quot;,&quot;140B&quot;,&quot;BLAS&quot;,1590,&quot;Black Studies&quot;,1813,&quot;Black Studies&quot;,&quot;F2024&quot;,&quot;&quot;,3.0,3.0,[],null,0,&quot;Course&quot;}],[],1,&quot;CourseGroup&quot;}],[{&quot;6744d5a1-0bb8-4013-44c9-08dca807cdfc&quot;,&quot;06d095c4-ce51-4d1a-f72a-08dca807cdae&quot;,&quot;Or&quot;,0,1}],&quot;SendingArticulation&quot;,[]}</td><td>[{&quot;And&quot;,[337201]}, {&quot;And&quot;,[156119]}]</td></tr><tr><td>327985</td><td>{null,[],[{&quot;And&quot;,[{[],[],[],281065,&quot;Third Course in Spanish&quot;,&quot;201&quot;,&quot;SPAN&quot;,3135,&quot;Spanish&quot;,12241,&quot;Spanish&quot;,&quot;F1995&quot;,&quot;&quot;,5.0,5.0,[],null,0,&quot;Course&quot;}],[],0,&quot;CourseGroup&quot;}, {&quot;And&quot;,[{[],[],[],206938,&quot;Conversation and Composition Spanish 1&quot;,&quot;210&quot;,&quot;SPAN&quot;,3135,&quot;Spanish&quot;,12241,&quot;Spanish&quot;,&quot;S2001&quot;,&quot;&quot;,3.0,3.0,[],null,0,&quot;Course&quot;}, {[],[],[],200029,&quot;Conversation and Composition Spanish II&quot;,&quot;211&quot;,&quot;SPAN&quot;,3135,&quot;Spanish&quot;,12241,&quot;Spanish&quot;,&quot;Su2001&quot;,&quot;&quot;,3.0,3.0,[],null,1,&quot;Course&quot;}],[],1,&quot;CourseGroup&quot;}],[{&quot;a1a9cd10-fe9a-455b-ab1f-08dca807cdc2&quot;,&quot;2b0c7571-7bd3-4a0f-bb29-08dca807cdc1&quot;,&quot;Or&quot;,0,1}],&quot;SendingArticulation&quot;,[]}</td><td>[{&quot;And&quot;,[281065]}, {&quot;And&quot;,[206938, 200029]}]</td></tr><tr><td>&hellip;</td><td>&hellip;</td><td>&hellip;</td></tr><tr><td>295083</td><td>{null,[],[{&quot;And&quot;,[{[],[],[],297077,&quot;General Physics&quot;,&quot;125&quot;,&quot;PHYS&quot;,225,&quot;Physics&quot;,10771,&quot;Physics&quot;,&quot;F2007&quot;,&quot;&quot;,5.0,5.0,[],227,0,&quot;Course&quot;}],[],0,&quot;CourseGroup&quot;}, {&quot;And&quot;,[{[],[],[],304422,&quot;General Physics II&quot;,&quot;126&quot;,&quot;PHYS&quot;,225,&quot;Physics&quot;,10771,&quot;Physics&quot;,&quot;F2007&quot;,&quot;&quot;,5.0,5.0,[],227,0,&quot;Course&quot;}],[],1,&quot;CourseGroup&quot;}],[{&quot;c6d8522b-6438-4cb4-acae-08dca807cdc2&quot;,&quot;ac88af3c-2a62-4f78-cf5f-08dca807cdc1&quot;,&quot;Or&quot;,0,1}],&quot;SendingArticulation&quot;,[]}</td><td>[{&quot;And&quot;,[297077]}, {&quot;And&quot;,[304422]}]</td></tr><tr><td>259933</td><td>{null,[],[{&quot;And&quot;,[{[],[],[],345437,&quot;Behavioral Science Statistics&quot;,&quot;258&quot;,&quot;PSYC&quot;,4633,&quot;Psychology&quot;,11234,&quot;Psychology&quot;,&quot;F2004&quot;,&quot;&quot;,3.0,3.0,[],null,0,&quot;Course&quot;}],[],1,&quot;CourseGroup&quot;}, {&quot;And&quot;,[{[],[],[],338911,&quot;Elementary Statistics&quot;,&quot;119&quot;,&quot;MATH&quot;,9952,&quot;Mathematics&quot;,8982,&quot;Mathematics&quot;,&quot;F1995&quot;,&quot;&quot;,3.0,3.0,[],null,0,&quot;Course&quot;}],[],0,&quot;CourseGroup&quot;}],[{&quot;bab493ec-77cd-4318-acac-08dca807cdc2&quot;,&quot;d7021df1-a29c-445f-cf51-08dca807cdc1&quot;,&quot;Or&quot;,0,1}],&quot;SendingArticulation&quot;,[]}</td><td>[{&quot;And&quot;,[345437]}, {&quot;And&quot;,[338911]}]</td></tr><tr><td>273644</td><td>{null,[],[{&quot;And&quot;,[{[],[],[],340102,&quot;Adolescent Psychology&quot;,&quot;123&quot;,&quot;PSYC&quot;,4633,&quot;Psychology&quot;,11234,&quot;Psychology&quot;,&quot;F1995&quot;,&quot;&quot;,3.0,3.0,[],null,0,&quot;Course&quot;}],[],0,&quot;CourseGroup&quot;}, {&quot;And&quot;,[{[],[],[],344558,&quot;Psychology of Lifespan Development&quot;,&quot;230&quot;,&quot;PSYC&quot;,4633,&quot;Psychology&quot;,11234,&quot;Psychology&quot;,&quot;F2002&quot;,&quot;&quot;,3.0,3.0,[],null,0,&quot;Course&quot;}],[],1,&quot;CourseGroup&quot;}],[{&quot;c002b6d2-6d46-4e19-44c8-08dca807cdfc&quot;,&quot;05a4e87b-4081-4496-f704-08dca807cdae&quot;,&quot;Or&quot;,0,1}],&quot;SendingArticulation&quot;,[]}</td><td>[{&quot;And&quot;,[340102]}, {&quot;And&quot;,[344558]}]</td></tr><tr><td>357745</td><td>{null,[],[{&quot;And&quot;,[{[],[],[],263771,&quot;Introduction to Psychological Research&quot;,&quot;255&quot;,&quot;PSYC&quot;,4633,&quot;Psychology&quot;,11234,&quot;Psychology&quot;,&quot;F2015&quot;,&quot;&quot;,3.0,3.0,[],null,0,&quot;Course&quot;}],[],0,&quot;CourseGroup&quot;}, {&quot;And&quot;,[{[],[],[],233806,&quot;Introduction to Research Methods in Sociology&quot;,&quot;220&quot;,&quot;SOCO&quot;,9018,&quot;Sociology&quot;,12171,&quot;Sociology&quot;,&quot;F2014&quot;,&quot;&quot;,3.0,3.0,[],null,0,&quot;Course&quot;}],[],1,&quot;CourseGroup&quot;}],[{&quot;a78afe7b-0e0d-4ad5-acb1-08dca807cdc2&quot;,&quot;550b9559-f53f-4ca9-cf82-08dca807cdc1&quot;,&quot;Or&quot;,0,1}],&quot;SendingArticulation&quot;,[]}</td><td>[{&quot;And&quot;,[263771]}, {&quot;And&quot;,[233806]}]</td></tr><tr><td>355147</td><td>{null,[],[{&quot;And&quot;,[{[],[],[],252098,&quot;Advanced Principles of Sociology&quot;,&quot;201&quot;,&quot;SOCO&quot;,9018,&quot;Sociology&quot;,12171,&quot;Sociology&quot;,&quot;F2006&quot;,&quot;&quot;,3.0,3.0,[],223,0,&quot;Course&quot;}],[],1,&quot;CourseGroup&quot;}, {&quot;And&quot;,[{[],[],[],336964,&quot;Contemporary Social Problems&quot;,&quot;110&quot;,&quot;SOCO&quot;,9018,&quot;Sociology&quot;,12171,&quot;Sociology&quot;,&quot;F1995&quot;,&quot;&quot;,3.0,3.0,[],179,0,&quot;Course&quot;}],[],0,&quot;CourseGroup&quot;}],[{&quot;e3ca69c1-5102-4a6f-44c6-08dca807cdfc&quot;,&quot;2ce08bbe-adcc-4588-f6f4-08dca807cdae&quot;,&quot;Or&quot;,0,1}],&quot;SendingArticulation&quot;,[]}</td><td>[{&quot;And&quot;,[252098]}, {&quot;And&quot;,[336964]}]</td></tr></tbody></table></div>"
      ],
      "text/plain": [
       "shape: (12, 3)\n",
       "┌───────────┬─────────────────────────────────┬─────────────────────────────────┐\n",
       "│ course_id ┆ sendingArticulation             ┆ items                           │\n",
       "│ ---       ┆ ---                             ┆ ---                             │\n",
       "│ i64       ┆ struct[6]                       ┆ list[struct[2]]                 │\n",
       "╞═══════════╪═════════════════════════════════╪═════════════════════════════════╡\n",
       "│ 357468    ┆ {null,[],[{\"And\",[{[],[],[],20… ┆ [{\"And\",[203808]}, {\"And\",[208… │\n",
       "│ 259948    ┆ {null,[],[{\"And\",[{[],[],[],33… ┆ [{\"And\",[339988]}, {\"And\",[267… │\n",
       "│ 223760    ┆ {null,[],[{\"And\",[{[],[],[],33… ┆ [{\"And\",[338911]}, {\"And\",[345… │\n",
       "│ 289406    ┆ {null,[],[{\"And\",[{[],[],[],33… ┆ [{\"And\",[337201]}, {\"And\",[156… │\n",
       "│ 327985    ┆ {null,[],[{\"And\",[{[],[],[],28… ┆ [{\"And\",[281065]}, {\"And\",[206… │\n",
       "│ …         ┆ …                               ┆ …                               │\n",
       "│ 295083    ┆ {null,[],[{\"And\",[{[],[],[],29… ┆ [{\"And\",[297077]}, {\"And\",[304… │\n",
       "│ 259933    ┆ {null,[],[{\"And\",[{[],[],[],34… ┆ [{\"And\",[345437]}, {\"And\",[338… │\n",
       "│ 273644    ┆ {null,[],[{\"And\",[{[],[],[],34… ┆ [{\"And\",[340102]}, {\"And\",[344… │\n",
       "│ 357745    ┆ {null,[],[{\"And\",[{[],[],[],26… ┆ [{\"And\",[263771]}, {\"And\",[233… │\n",
       "│ 355147    ┆ {null,[],[{\"And\",[{[],[],[],25… ┆ [{\"And\",[252098]}, {\"And\",[336… │\n",
       "└───────────┴─────────────────────────────────┴─────────────────────────────────┘"
      ]
     },
     "execution_count": 110,
     "metadata": {},
     "output_type": "execute_result"
    }
   ],
   "source": [
    "\n",
    "articulations = pl.DataFrame(get_query(45, 7)).explode(\"articulations\")\n",
    "\n",
    "articulations = pl.concat((\n",
    "    articulations.get_column(\"articulations\").struct.field(\"course\").struct.field(\"courseIdentifierParentId\").rename(\"course_id\").to_frame(),\n",
    "    articulations.get_column(\"articulations\").struct.field(\"series\").to_frame(),\n",
    "    articulations.get_column(\"articulations\").struct.field(\"sendingArticulation\").to_frame(),\n",
    "), how=\"horizontal\")\n",
    "\n",
    "test = (\n",
    "    articulations\n",
    "    .with_columns(pl.col(\"series\").struct.field(\"courses\"))\n",
    "    .explode(\"courses\")\n",
    "    .with_columns(\n",
    "        course_id=pl.coalesce(\n",
    "            \"course_id\",\n",
    "            pl.col(\"courses\").struct.field(\"courseIdentifierParentId\")\n",
    "        ),\n",
    "        items=(\n",
    "            pl.when(pl.col(\"sendingArticulation\").struct.field(\"items\").list.len() > 0)\n",
    "            .then(pl.col(\"sendingArticulation\").struct.field(\"items\"))\n",
    "            .otherwise(None)\n",
    "        ),\n",
    "        \n",
    "    )\n",
    "    .with_columns(\n",
    "        pl.col(\"items\").list.eval(\n",
    "            pl.struct([\n",
    "                pl.element().struct.field(\"courseConjunction\"),\n",
    "                pl.element().struct.field(\"items\").list.eval(\n",
    "                    pl.element().struct.field(\"courseIdentifierParentId\")\n",
    "                )\n",
    "            ])#.struct.json_encode()  # uncomment to convert struct to json string\n",
    "        )\n",
    "    )\n",
    "    # .with_columns(\n",
    "    #     groupConj=(\n",
    "    #         pl.when(pl.col(\"items\").is_not_null() & pl.col(\"items\").list.len() > 1)\n",
    "    #         .then(pl.col(\"sendingArticulation\").struct.field(\"courseGroupConjunctions\").struct.field(\"groupConjunction\"))\n",
    "    #         .otherwise(None)\n",
    "    #     )\n",
    "    # )\n",
    "    .drop([\"series\", \"courses\"])\n",
    ")\n",
    "\n",
    "\n",
    "(\n",
    "    test\n",
    "    .filter(pl.col(\"items\").list.len() > 1)\n",
    "    # .with_columns(\n",
    "    #     groupConjLen=pl.col(\"groupConj\").list.len()\n",
    "    # )\n",
    "    # .get_column(\"groupConj\").list.get(0).struct.fields\n",
    "    # .filter(pl.col(\"course_id\") == 327985)\n",
    ")\n",
    "\n",
    "\n",
    "# test"
   ]
  },
  {
   "cell_type": "code",
   "execution_count": 23,
   "metadata": {},
   "outputs": [
    {
     "data": {
      "text/plain": [
       "['type',\n",
       " 'series',\n",
       " 'visibleCrossListedCourses',\n",
       " 'seriesAttributes',\n",
       " 'courseAttributes',\n",
       " 'sendingArticulation',\n",
       " 'templateOverrides',\n",
       " 'attributes',\n",
       " 'receivingAttributes',\n",
       " 'course']"
      ]
     },
     "execution_count": 23,
     "metadata": {},
     "output_type": "execute_result"
    }
   ],
   "source": [
    "get_query = lambda cc_id, uni_id: pl.read_json(f\"./data/{uni_id}/{cc_id}to{uni_id}.json\")\n",
    "\n",
    "query45to7 = get_query(cc_id=45, uni_id=7)\n",
    "query51to1 = get_query(cc_id=51, uni_id=1)\n",
    "\n",
    "# query45to7.explode(\"articulations\")\n",
    "query51to1.get_column(\"articulation\").struct.fields"
   ]
  },
  {
   "cell_type": "code",
   "execution_count": 5,
   "metadata": {},
   "outputs": [
    {
     "data": {
      "text/html": [
       "<div><style>\n",
       ".dataframe > thead > tr,\n",
       ".dataframe > tbody > tr {\n",
       "  text-align: right;\n",
       "  white-space: pre-wrap;\n",
       "}\n",
       "</style>\n",
       "<small>shape: (531, 6)</small><table border=\"1\" class=\"dataframe\"><thead><tr><th>course_id</th><th>inst_id</th><th>course_code</th><th>course_name</th><th>min_units</th><th>max_units</th></tr><tr><td>str</td><td>i64</td><td>str</td><td>str</td><td>i64</td><td>i64</td></tr></thead><tbody><tr><td>&quot;7AAS10&quot;</td><td>7</td><td>&quot;AAS 10&quot;</td><td>&quot;Introduction to African Americ…</td><td>4</td><td>4</td></tr><tr><td>&quot;7AAS11&quot;</td><td>7</td><td>&quot;AAS 11&quot;</td><td>&quot;Introduction to Black Diaspori…</td><td>4</td><td>4</td></tr><tr><td>&quot;7AAS14&quot;</td><td>7</td><td>&quot;AAS 14&quot;</td><td>&quot;Introduction to African Studie…</td><td>4</td><td>4</td></tr><tr><td>&quot;7AAS15&quot;</td><td>7</td><td>&quot;AAS 15&quot;</td><td>&quot;Racism and Global Imperialism&quot;</td><td>4</td><td>4</td></tr><tr><td>&quot;7ANTH1&quot;</td><td>7</td><td>&quot;ANTH 1&quot;</td><td>&quot;Introduction to Culture&quot;</td><td>4</td><td>4</td></tr><tr><td>&hellip;</td><td>&hellip;</td><td>&hellip;</td><td>&hellip;</td><td>&hellip;</td><td>&hellip;</td></tr><tr><td>&quot;7VIS84&quot;</td><td>7</td><td>&quot;VIS 84&quot;</td><td>&quot;Film History&quot;</td><td>4</td><td>4</td></tr><tr><td>&quot;7VIS84B&quot;</td><td>7</td><td>&quot;VIS 84B&quot;</td><td>&quot;Film Aesthetics&quot;</td><td>4</td><td>4</td></tr><tr><td>&quot;7VIS85A&quot;</td><td>7</td><td>&quot;VIS 85A&quot;</td><td>&quot;Media History&quot;</td><td>4</td><td>4</td></tr><tr><td>&quot;7VIS85B&quot;</td><td>7</td><td>&quot;VIS 85B&quot;</td><td>&quot;Media Aesthetics&quot;</td><td>4</td><td>4</td></tr><tr><td>&quot;7VIS9&quot;</td><td>7</td><td>&quot;VIS 9&quot;</td><td>&quot;Introduction to Digital Photog…</td><td>4</td><td>4</td></tr></tbody></table></div>"
      ],
      "text/plain": [
       "shape: (531, 6)\n",
       "┌───────────┬─────────┬─────────────┬─────────────────────────────────┬───────────┬───────────┐\n",
       "│ course_id ┆ inst_id ┆ course_code ┆ course_name                     ┆ min_units ┆ max_units │\n",
       "│ ---       ┆ ---     ┆ ---         ┆ ---                             ┆ ---       ┆ ---       │\n",
       "│ str       ┆ i64     ┆ str         ┆ str                             ┆ i64       ┆ i64       │\n",
       "╞═══════════╪═════════╪═════════════╪═════════════════════════════════╪═══════════╪═══════════╡\n",
       "│ 7AAS10    ┆ 7       ┆ AAS 10      ┆ Introduction to African Americ… ┆ 4         ┆ 4         │\n",
       "│ 7AAS11    ┆ 7       ┆ AAS 11      ┆ Introduction to Black Diaspori… ┆ 4         ┆ 4         │\n",
       "│ 7AAS14    ┆ 7       ┆ AAS 14      ┆ Introduction to African Studie… ┆ 4         ┆ 4         │\n",
       "│ 7AAS15    ┆ 7       ┆ AAS 15      ┆ Racism and Global Imperialism   ┆ 4         ┆ 4         │\n",
       "│ 7ANTH1    ┆ 7       ┆ ANTH 1      ┆ Introduction to Culture         ┆ 4         ┆ 4         │\n",
       "│ …         ┆ …       ┆ …           ┆ …                               ┆ …         ┆ …         │\n",
       "│ 7VIS84    ┆ 7       ┆ VIS 84      ┆ Film History                    ┆ 4         ┆ 4         │\n",
       "│ 7VIS84B   ┆ 7       ┆ VIS 84B     ┆ Film Aesthetics                 ┆ 4         ┆ 4         │\n",
       "│ 7VIS85A   ┆ 7       ┆ VIS 85A     ┆ Media History                   ┆ 4         ┆ 4         │\n",
       "│ 7VIS85B   ┆ 7       ┆ VIS 85B     ┆ Media Aesthetics                ┆ 4         ┆ 4         │\n",
       "│ 7VIS9     ┆ 7       ┆ VIS 9       ┆ Introduction to Digital Photog… ┆ 4         ┆ 4         │\n",
       "└───────────┴─────────┴─────────────┴─────────────────────────────────┴───────────┴───────────┘"
      ]
     },
     "execution_count": 5,
     "metadata": {},
     "output_type": "execute_result"
    }
   ],
   "source": [
    "create_course_glossary(cc=45, uni=7)"
   ]
  },
  {
   "cell_type": "code",
   "execution_count": 6,
   "metadata": {},
   "outputs": [
    {
     "name": "stdout",
     "output_type": "stream",
     "text": [
      "created 115 dfs for uni ID: 1\n",
      "created 115 dfs for uni ID: 7\n",
      "created 115 dfs for uni ID: 11\n",
      "created 115 dfs for uni ID: 12\n",
      "created 115 dfs for uni ID: 21\n",
      "created 0 dfs for uni ID: 23\n",
      "created 115 dfs for uni ID: 24\n",
      "created 11 dfs for uni ID: 26\n",
      "created 90 dfs for uni ID: 29\n",
      "created 115 dfs for uni ID: 39\n",
      "created 115 dfs for uni ID: 42\n",
      "created 115 dfs for uni ID: 46\n",
      "created 115 dfs for uni ID: 50\n",
      "created 115 dfs for uni ID: 60\n",
      "created 115 dfs for uni ID: 75\n",
      "created 115 dfs for uni ID: 76\n",
      "created 115 dfs for uni ID: 79\n",
      "created 115 dfs for uni ID: 81\n",
      "created 35 dfs for uni ID: 85\n",
      "created 0 dfs for uni ID: 88\n",
      "created 0 dfs for uni ID: 89\n",
      "created 0 dfs for uni ID: 98\n",
      "created 0 dfs for uni ID: 115\n",
      "created 0 dfs for uni ID: 116\n",
      "created 0 dfs for uni ID: 117\n",
      "created 0 dfs for uni ID: 120\n",
      "created 0 dfs for uni ID: 128\n",
      "created 0 dfs for uni ID: 129\n",
      "created 0 dfs for uni ID: 132\n",
      "created 0 dfs for uni ID: 141\n",
      "created 0 dfs for uni ID: 143\n",
      "created 0 dfs for uni ID: 144\n",
      "glossary list constructed\n"
     ]
    }
   ],
   "source": [
    "\"\"\"\n",
    "Create a test run of a full course glossary\n",
    "\"\"\"\n",
    "\n",
    "def create_full_glossary():\n",
    "    with open(\"./data/institutions_cc.json\", \"r\") as cc_fp, open(\"./data/institutions_state.json\", \"r\") as uni_fp:\n",
    "        cc_ids = json.load(cc_fp).keys()\n",
    "        uni_ids = json.load(uni_fp).keys()\n",
    "    \n",
    "    glossary = []\n",
    "    cc_count = 0\n",
    "    for uni_id in uni_ids:\n",
    "        batch = []\n",
    "        for cc_id in cc_ids:\n",
    "            try:\n",
    "                batch.append(create_course_glossary(cc=cc_id,uni=uni_id))\n",
    "                cc_count += 1\n",
    "            except FileNotFoundError:  # no query exists, no query was scraped\n",
    "                continue\n",
    "        glossary.extend(batch)\n",
    "        print(\"created\", cc_count, \"dfs for uni ID:\", uni_id)\n",
    "        cc_count = 0\n",
    "    print(\"glossary list constructed\")\n",
    "    return pl.concat(glossary)\n",
    "\n",
    "\n",
    "\n",
    "\"\"\"\n",
    "Notes: getting errors for the following cc:uni combos\n",
    "KeyError 'articulations': 51:1, 55:26, 124:26\n",
    "TypeError: str + NoneType unsupported: 97:21, 51:50\n",
    "\n",
    "Checking files...\n",
    "51:1 -> AllMajors file, diff schema, no by dept split\n",
    "\n",
    "AllPrefixes Schema: \n",
    "results\n",
    "-> articulations\n",
    "    -> list of depts\n",
    "        -> name, list of articulations for dept\n",
    "            -> course objects\n",
    "            \n",
    "AllMajors Schema:\n",
    "results\n",
    "-> articulations\n",
    "    -> list of articulations\n",
    "        -> templateCellId, articulation, \n",
    "\"\"\"\n",
    "\n",
    "glossary = create_full_glossary()"
   ]
  },
  {
   "cell_type": "code",
   "execution_count": 9,
   "metadata": {},
   "outputs": [
    {
     "data": {
      "text/plain": [
       "dict_keys(['1', '7', '11', '12', '21', '23', '24', '26', '29', '39', '42', '46', '50', '60', '75', '76', '79', '81', '85', '88', '89', '98', '115', '116', '117', '120', '128', '129', '132', '141', '143', '144'])"
      ]
     },
     "execution_count": 9,
     "metadata": {},
     "output_type": "execute_result"
    }
   ],
   "source": [
    "uni_ids"
   ]
  },
  {
   "cell_type": "code",
   "execution_count": 7,
   "metadata": {},
   "outputs": [
    {
     "data": {
      "text/html": [
       "<div><style>\n",
       ".dataframe > thead > tr,\n",
       ".dataframe > tbody > tr {\n",
       "  text-align: right;\n",
       "  white-space: pre-wrap;\n",
       "}\n",
       "</style>\n",
       "<small>shape: (114, 6)</small><table border=\"1\" class=\"dataframe\"><thead><tr><th>course_id</th><th>inst_id</th><th>course_code</th><th>course_name</th><th>min_units</th><th>max_units</th></tr><tr><td>str</td><td>str</td><td>str</td><td>str</td><td>i64</td><td>i64</td></tr></thead><tbody><tr><td>&quot;1BUS100&quot;</td><td>&quot;1&quot;</td><td>&quot;BUS 100&quot;</td><td>&quot;Accounting Principles I: Finan…</td><td>3</td><td>3</td></tr><tr><td>&quot;1BUS100&quot;</td><td>&quot;1&quot;</td><td>&quot;BUS 100&quot;</td><td>&quot;Accounting Principles I: Finan…</td><td>3</td><td>3</td></tr><tr><td>&quot;1BUS100&quot;</td><td>&quot;1&quot;</td><td>&quot;BUS 100&quot;</td><td>&quot;Accounting Principles I: Finan…</td><td>3</td><td>3</td></tr><tr><td>&quot;1BUS100&quot;</td><td>&quot;1&quot;</td><td>&quot;BUS 100&quot;</td><td>&quot;Accounting Principles I: Finan…</td><td>3</td><td>3</td></tr><tr><td>&quot;1BUS100&quot;</td><td>&quot;1&quot;</td><td>&quot;BUS 100&quot;</td><td>&quot;Accounting Principles I: Finan…</td><td>3</td><td>3</td></tr><tr><td>&hellip;</td><td>&hellip;</td><td>&hellip;</td><td>&hellip;</td><td>&hellip;</td><td>&hellip;</td></tr><tr><td>&quot;1BUS100&quot;</td><td>&quot;1&quot;</td><td>&quot;BUS 100&quot;</td><td>&quot;Accounting Principles I: Finan…</td><td>3</td><td>3</td></tr><tr><td>&quot;1BUS100&quot;</td><td>&quot;1&quot;</td><td>&quot;BUS 100&quot;</td><td>&quot;Accounting Principles I: Finan…</td><td>3</td><td>3</td></tr><tr><td>&quot;1BUS100&quot;</td><td>&quot;1&quot;</td><td>&quot;BUS 100&quot;</td><td>&quot;Accounting Principles I: Finan…</td><td>3</td><td>3</td></tr><tr><td>&quot;1BUS100&quot;</td><td>&quot;1&quot;</td><td>&quot;BUS 100&quot;</td><td>&quot;Accounting Principles I: Finan…</td><td>3</td><td>3</td></tr><tr><td>&quot;1BUS100&quot;</td><td>&quot;1&quot;</td><td>&quot;BUS 100&quot;</td><td>&quot;Accounting Principles I: Finan…</td><td>3</td><td>3</td></tr></tbody></table></div>"
      ],
      "text/plain": [
       "shape: (114, 6)\n",
       "┌───────────┬─────────┬─────────────┬─────────────────────────────────┬───────────┬───────────┐\n",
       "│ course_id ┆ inst_id ┆ course_code ┆ course_name                     ┆ min_units ┆ max_units │\n",
       "│ ---       ┆ ---     ┆ ---         ┆ ---                             ┆ ---       ┆ ---       │\n",
       "│ str       ┆ str     ┆ str         ┆ str                             ┆ i64       ┆ i64       │\n",
       "╞═══════════╪═════════╪═════════════╪═════════════════════════════════╪═══════════╪═══════════╡\n",
       "│ 1BUS100   ┆ 1       ┆ BUS 100     ┆ Accounting Principles I: Finan… ┆ 3         ┆ 3         │\n",
       "│ 1BUS100   ┆ 1       ┆ BUS 100     ┆ Accounting Principles I: Finan… ┆ 3         ┆ 3         │\n",
       "│ 1BUS100   ┆ 1       ┆ BUS 100     ┆ Accounting Principles I: Finan… ┆ 3         ┆ 3         │\n",
       "│ 1BUS100   ┆ 1       ┆ BUS 100     ┆ Accounting Principles I: Finan… ┆ 3         ┆ 3         │\n",
       "│ 1BUS100   ┆ 1       ┆ BUS 100     ┆ Accounting Principles I: Finan… ┆ 3         ┆ 3         │\n",
       "│ …         ┆ …       ┆ …           ┆ …                               ┆ …         ┆ …         │\n",
       "│ 1BUS100   ┆ 1       ┆ BUS 100     ┆ Accounting Principles I: Finan… ┆ 3         ┆ 3         │\n",
       "│ 1BUS100   ┆ 1       ┆ BUS 100     ┆ Accounting Principles I: Finan… ┆ 3         ┆ 3         │\n",
       "│ 1BUS100   ┆ 1       ┆ BUS 100     ┆ Accounting Principles I: Finan… ┆ 3         ┆ 3         │\n",
       "│ 1BUS100   ┆ 1       ┆ BUS 100     ┆ Accounting Principles I: Finan… ┆ 3         ┆ 3         │\n",
       "│ 1BUS100   ┆ 1       ┆ BUS 100     ┆ Accounting Principles I: Finan… ┆ 3         ┆ 3         │\n",
       "└───────────┴─────────┴─────────────┴─────────────────────────────────┴───────────┴───────────┘"
      ]
     },
     "execution_count": 7,
     "metadata": {},
     "output_type": "execute_result"
    }
   ],
   "source": [
    "glossary.filter(pl.col(\"course_id\") == \"1BUS100\")"
   ]
  },
  {
   "cell_type": "code",
   "execution_count": 8,
   "metadata": {},
   "outputs": [
    {
     "ename": "TypeError",
     "evalue": "create_course_glossary() got an unexpected keyword argument 'articulations'",
     "output_type": "error",
     "traceback": [
      "\u001b[31m---------------------------------------------------------------------------\u001b[39m",
      "\u001b[31mTypeError\u001b[39m                                 Traceback (most recent call last)",
      "\u001b[36mCell\u001b[39m\u001b[36m \u001b[39m\u001b[32mIn[8]\u001b[39m\u001b[32m, line 31\u001b[39m\n\u001b[32m     29\u001b[39m \u001b[38;5;28;01mfor\u001b[39;00m cc_id \u001b[38;5;129;01min\u001b[39;00m cc_ids:\n\u001b[32m     30\u001b[39m     \u001b[38;5;28;01mtry\u001b[39;00m:\n\u001b[32m---> \u001b[39m\u001b[32m31\u001b[39m         batch.append(\u001b[43mcreate_course_glossary\u001b[49m\u001b[43m(\u001b[49m\n\u001b[32m     32\u001b[39m \u001b[43m            \u001b[49m\u001b[43marticulations\u001b[49m\u001b[43m=\u001b[49m\u001b[43mget_query\u001b[49m\u001b[43m(\u001b[49m\u001b[43mcc_id\u001b[49m\u001b[43m=\u001b[49m\u001b[43mcc_id\u001b[49m\u001b[43m,\u001b[49m\u001b[43m \u001b[49m\u001b[43muni_id\u001b[49m\u001b[43m=\u001b[49m\u001b[43muni_id\u001b[49m\u001b[43m)\u001b[49m\u001b[43m,\u001b[49m\n\u001b[32m     33\u001b[39m \u001b[43m            \u001b[49m\u001b[43mcc\u001b[49m\u001b[43m=\u001b[49m\u001b[43mcc_id\u001b[49m\u001b[43m,\u001b[49m\n\u001b[32m     34\u001b[39m \u001b[43m            \u001b[49m\u001b[43muni\u001b[49m\u001b[43m=\u001b[49m\u001b[43muni_id\u001b[49m\n\u001b[32m     35\u001b[39m \u001b[43m        \u001b[49m\u001b[43m)\u001b[49m)\n\u001b[32m     36\u001b[39m     \u001b[38;5;28;01mexcept\u001b[39;00m \u001b[38;5;167;01mFileNotFoundError\u001b[39;00m:  \u001b[38;5;66;03m# no query exists, no query was scraped\u001b[39;00m\n\u001b[32m     37\u001b[39m         \u001b[38;5;28;01mcontinue\u001b[39;00m\n",
      "\u001b[31mTypeError\u001b[39m: create_course_glossary() got an unexpected keyword argument 'articulations'"
     ]
    }
   ],
   "source": [
    "\"\"\"\n",
    "Dump glossary with SQLite3\n",
    "\"\"\"\n",
    "\n",
    "import sqlite3 as sql3\n",
    "\n",
    "with sql3.connect(\"./test.db\") as conn:\n",
    "    cursor = conn.cursor()\n",
    "    \n",
    "    # create table\n",
    "    cursor.execute(\"\"\"\n",
    "        CREATE TABLE IF NOT EXISTS course_glossary (\n",
    "            course_id INTEGER PRIMARY KEY,\n",
    "            inst_id INTEGER,\n",
    "            course_code TEXT,\n",
    "            course_name TEXT,\n",
    "            min_units REAL,\n",
    "            max_units REAL\n",
    "        )\n",
    "    \"\"\")\n",
    "    \n",
    "    with open(\"./data/institutions_cc.json\", \"r\") as cc_fp, open(\"./data/institutions_state.json\", \"r\") as uni_fp:\n",
    "        cc_ids = json.load(cc_fp).keys()\n",
    "        uni_ids = json.load(uni_fp).keys()\n",
    "           \n",
    "    glossary = []\n",
    "    for uni_id in uni_ids:\n",
    "        batch = []\n",
    "        for cc_id in cc_ids:\n",
    "            try:\n",
    "                batch.append(create_course_glossary(\n",
    "                    articulations=get_query(cc_id=cc_id, uni_id=uni_id),\n",
    "                    cc=cc_id,\n",
    "                    uni=uni_id\n",
    "                ))\n",
    "            except FileNotFoundError:  # no query exists, no query was scraped\n",
    "                continue\n",
    "        glossary.extend(batch)\n",
    "        \n",
    "\n",
    "    glossary_df = pd.concat(glossary, ignore_index=True)\n",
    "    glossary_df.to_sql(\n",
    "        name=\"course_glossary\", \n",
    "        con=conn, \n",
    "        if_exists=\"append\", \n",
    "        index=False\n",
    "    )"
   ]
  }
 ],
 "metadata": {
  "kernelspec": {
   "display_name": "pyvenv",
   "language": "python",
   "name": "python3"
  },
  "language_info": {
   "codemirror_mode": {
    "name": "ipython",
    "version": 3
   },
   "file_extension": ".py",
   "mimetype": "text/x-python",
   "name": "python",
   "nbconvert_exporter": "python",
   "pygments_lexer": "ipython3",
   "version": "3.12.3"
  }
 },
 "nbformat": 4,
 "nbformat_minor": 2
}
